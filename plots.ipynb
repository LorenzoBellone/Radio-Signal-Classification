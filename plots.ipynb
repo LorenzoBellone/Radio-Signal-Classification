{
 "cells": [
  {
   "cell_type": "code",
   "execution_count": 1,
   "id": "5a098cbd",
   "metadata": {},
   "outputs": [
    {
     "name": "stderr",
     "output_type": "stream",
     "text": [
      "/home/lorenzo/miniconda3/envs/rfdet/lib/python3.9/site-packages/tqdm/auto.py:22: TqdmWarning: IProgress not found. Please update jupyter and ipywidgets. See https://ipywidgets.readthedocs.io/en/stable/user_install.html\n",
      "  from .autonotebook import tqdm as notebook_tqdm\n"
     ]
    }
   ],
   "source": [
    "import json\n",
    "import os\n",
    "import time\n",
    "import torch\n",
    "import torch.utils.data\n",
    "import torch.optim as optim\n",
    "from torchvision import transforms\n",
    "from my_dataset import MyDataSet\n",
    "from utils import split_data, create_lr_scheduler, get_params_groups, train_one_epoch, evaluate\n",
    "import numpy as np"
   ]
  },
  {
   "cell_type": "code",
   "execution_count": 5,
   "id": "e4992708",
   "metadata": {},
   "outputs": [],
   "source": [
    "device = 'cuda:0'\n",
    "data_path = \"../2018.01/GOLD_XYZ_OSC.0001_1024.hdf5\"\n",
    "snr_range = [-20, 30]\n",
    "snr_step = 2\n",
    "batch_size = 16\n",
    "nw = min([os.cpu_count(), batch_size if batch_size > 1 else 0, 8])  # number of workers\n",
    "num_classes = 24\n",
    "model = \"convnext\"\n",
    "if model == 'convnext':\n",
    "    from model import convnext as create_model\n",
    "elif model == \"convnet\":\n",
    "    from models.convnet import ConvNet as create_model"
   ]
  },
  {
   "cell_type": "code",
   "execution_count": 6,
   "id": "1d52f441",
   "metadata": {},
   "outputs": [
    {
     "name": "stdout",
     "output_type": "stream",
     "text": [
      "using cuda:0 device...\n",
      "Validating for snr -20 dB\n",
      "using valid data size: 12288\n",
      "[valid epoch 1] loss: 3.184, acc: 0.043: 100%|██████████| 768/768 [00:05<00:00, 145.69it/s]\n",
      "Validating for snr -18 dB\n",
      "using valid data size: 12288\n",
      "[valid epoch 1] loss: 4.588, acc: 0.044: 100%|██████████| 768/768 [00:05<00:00, 142.55it/s]\n",
      "Validating for snr -16 dB\n",
      "using valid data size: 12288\n",
      "[valid epoch 1] loss: 3.647, acc: 0.043: 100%|██████████| 768/768 [00:05<00:00, 147.50it/s]\n",
      "Validating for snr -14 dB\n",
      "using valid data size: 12288\n",
      "[valid epoch 1] loss: 3.447, acc: 0.047: 100%|██████████| 768/768 [00:05<00:00, 147.05it/s]\n",
      "Validating for snr -12 dB\n",
      "using valid data size: 12288\n",
      "[valid epoch 1] loss: 2.833, acc: 0.110: 100%|██████████| 768/768 [00:05<00:00, 146.26it/s]\n",
      "Validating for snr -10 dB\n",
      "using valid data size: 12288\n",
      "[valid epoch 1] loss: 2.462, acc: 0.153: 100%|██████████| 768/768 [00:05<00:00, 142.93it/s]\n",
      "Validating for snr -8 dB\n",
      "using valid data size: 12288\n",
      "[valid epoch 1] loss: 2.298, acc: 0.187: 100%|██████████| 768/768 [00:05<00:00, 147.06it/s]\n",
      "Validating for snr -6 dB\n",
      "using valid data size: 12288\n",
      "[valid epoch 1] loss: 2.039, acc: 0.266: 100%|██████████| 768/768 [00:05<00:00, 144.32it/s]\n",
      "Validating for snr -4 dB\n",
      "using valid data size: 12288\n",
      "[valid epoch 1] loss: 1.954, acc: 0.313: 100%|██████████| 768/768 [00:05<00:00, 143.80it/s]\n",
      "Validating for snr -2 dB\n",
      "using valid data size: 12288\n",
      "[valid epoch 1] loss: 1.528, acc: 0.412: 100%|██████████| 768/768 [00:05<00:00, 148.22it/s]\n",
      "Validating for snr 0 dB\n",
      "using valid data size: 12288\n",
      "[valid epoch 1] loss: 1.272, acc: 0.525: 100%|██████████| 768/768 [00:05<00:00, 145.92it/s]\n",
      "Validating for snr 2 dB\n",
      "using valid data size: 12288\n",
      "[valid epoch 1] loss: 1.110, acc: 0.589: 100%|██████████| 768/768 [00:05<00:00, 151.68it/s]\n",
      "Validating for snr 4 dB\n",
      "using valid data size: 12288\n",
      "[valid epoch 1] loss: 1.117, acc: 0.652: 100%|██████████| 768/768 [00:05<00:00, 146.94it/s]\n",
      "Validating for snr 6 dB\n",
      "using valid data size: 12288\n",
      "[valid epoch 1] loss: 0.616, acc: 0.766: 100%|██████████| 768/768 [00:05<00:00, 143.92it/s]\n",
      "Validating for snr 8 dB\n",
      "using valid data size: 12288\n",
      "[valid epoch 1] loss: 0.395, acc: 0.827: 100%|██████████| 768/768 [00:05<00:00, 147.83it/s]\n",
      "Validating for snr 10 dB\n",
      "using valid data size: 12288\n",
      "[valid epoch 1] loss: 0.327, acc: 0.875: 100%|██████████| 768/768 [00:05<00:00, 143.88it/s]\n",
      "Validating for snr 12 dB\n",
      "using valid data size: 12288\n",
      "[valid epoch 1] loss: 0.260, acc: 0.923: 100%|██████████| 768/768 [00:05<00:00, 146.61it/s]\n",
      "Validating for snr 14 dB\n",
      "using valid data size: 12288\n",
      "[valid epoch 1] loss: 0.214, acc: 0.935: 100%|██████████| 768/768 [00:05<00:00, 147.55it/s]\n",
      "Validating for snr 16 dB\n",
      "using valid data size: 12288\n",
      "[valid epoch 1] loss: 0.184, acc: 0.935: 100%|██████████| 768/768 [00:05<00:00, 142.42it/s]\n",
      "Validating for snr 18 dB\n",
      "using valid data size: 12288\n",
      "[valid epoch 1] loss: 0.206, acc: 0.917: 100%|██████████| 768/768 [00:05<00:00, 148.00it/s]\n",
      "Validating for snr 20 dB\n",
      "using valid data size: 12288\n",
      "[valid epoch 1] loss: 0.311, acc: 0.881: 100%|██████████| 768/768 [00:05<00:00, 143.84it/s]\n",
      "Validating for snr 22 dB\n",
      "using valid data size: 12288\n",
      "[valid epoch 1] loss: 0.247, acc: 0.924: 100%|██████████| 768/768 [00:05<00:00, 142.97it/s]\n",
      "Validating for snr 24 dB\n",
      "using valid data size: 12288\n",
      "[valid epoch 1] loss: 0.194, acc: 0.938: 100%|██████████| 768/768 [00:05<00:00, 142.52it/s]\n",
      "Validating for snr 26 dB\n",
      "using valid data size: 12288\n",
      "[valid epoch 1] loss: 0.237, acc: 0.928: 100%|██████████| 768/768 [00:05<00:00, 145.81it/s]\n",
      "Validating for snr 28 dB\n",
      "using valid data size: 12288\n",
      "[valid epoch 1] loss: 0.283, acc: 0.913: 100%|██████████| 768/768 [00:05<00:00, 149.28it/s]\n",
      "Validating for snr 30 dB\n",
      "using valid data size: 12288\n",
      "[valid epoch 1] loss: 0.221, acc: 0.929: 100%|██████████| 768/768 [00:05<00:00, 141.97it/s]\n"
     ]
    }
   ],
   "source": [
    "acc = {}\n",
    "device = torch.device(device if torch.cuda.is_available() else \"cpu\")\n",
    "print(f\"using {device} device...\")\n",
    "for snr in range(snr_range[0], snr_range[1]+1, snr_step):\n",
    "    \n",
    "    print(f\"Validating for snr {snr} dB\")\n",
    "    \n",
    "    # create model\n",
    "    net = create_model(num_classes=num_classes).to(device)\n",
    "    # load model weights\n",
    "    model_weight_path = f\"./weights/{model}/snr{snr}.pth\"\n",
    "    net.load_state_dict(torch.load(model_weight_path, map_location=device))\n",
    "\n",
    "    data_dir = os.path.dirname(os.path.abspath(data_path))\n",
    "    # train_indexes, train_labels, val_indexes, val_labels\n",
    "    reload_data = True\n",
    "    if os.path.exists(data_dir + '/train_indexes.json') and not reload_data:\n",
    "        with open(data_dir + '/val_indexes.json') as f:\n",
    "            val_indexes = json.load(f)\n",
    "        with open(data_dir + '/val_label.json') as f:\n",
    "            val_labels = json.load(f)\n",
    "    else:\n",
    "        train_indexes, train_labels, val_indexes, val_labels = split_data(data_path, snr,\n",
    "                                                                          ratio=[0.875, 0.125, 0.],\n",
    "                                                                          test=False, one_hot=False)\n",
    "\n",
    "    print(\"using valid data size: {}\".format(len(val_labels)))\n",
    "    data_transform = {\n",
    "        \"val\": transforms.Compose([transforms.ToTensor()])\n",
    "    }\n",
    "\n",
    "    val_dataset = MyDataSet(hdf5_path=data_path,\n",
    "                            mod_class=val_labels,\n",
    "                            indexes=val_indexes,\n",
    "                            model=model,\n",
    "                            transform=data_transform[\"val\"])\n",
    "    \n",
    "    val_loader = torch.utils.data.DataLoader(val_dataset,\n",
    "                                         batch_size=batch_size,\n",
    "                                         shuffle=False,\n",
    "                                         pin_memory=True,\n",
    "                                         num_workers=nw)\n",
    "    \n",
    "    # validate\n",
    "    val_loss, val_acc = evaluate(model=net,\n",
    "                                 data_loader=val_loader,\n",
    "                                 device=device,\n",
    "                                 epoch=1)\n",
    "    acc[snr] = val_acc"
   ]
  },
  {
   "cell_type": "code",
   "execution_count": 9,
   "id": "e5ca840e",
   "metadata": {},
   "outputs": [],
   "source": [
    "import json\n",
    "import matplotlib.pyplot as plt"
   ]
  },
  {
   "cell_type": "code",
   "execution_count": 10,
   "id": "574651f8",
   "metadata": {},
   "outputs": [],
   "source": [
    "with open(\"accuracy_convnet.json\", \"w\") as f:\n",
    "    json.dump(acc_convnet, f, indent=6)"
   ]
  },
  {
   "cell_type": "code",
   "execution_count": 11,
   "id": "cff4e442",
   "metadata": {},
   "outputs": [],
   "source": [
    "with open(\"accuracy_convnext.json\", \"w\") as f:\n",
    "    json.dump(acc_convnext, f, indent=6)"
   ]
  },
  {
   "cell_type": "code",
   "execution_count": 14,
   "id": "a20b3570",
   "metadata": {},
   "outputs": [
    {
     "data": {
      "text/plain": [
       "Text(0.5, 1.0, 'ConvNext vs ConvNet Accuracies')"
      ]
     },
     "execution_count": 14,
     "metadata": {},
     "output_type": "execute_result"
    },
    {
     "data": {
      "image/png": "[encoded data removed]",
      "text/plain": [
       "<Figure size 1008x576 with 1 Axes>"
      ]
     },
     "metadata": {
      "needs_background": "light"
     },
     "output_type": "display_data"
    }
   ],
   "source": [
    "plt.figure(figsize=(14, 8))\n",
    "plt.grid()\n",
    "plt.ylabel(\"Modulation Classification Accuracy\")\n",
    "plt.xlabel(\"SNR\")\n",
    "plt.plot(acc_convnet.keys(), acc_convnet.values(), '-ro', label=\"ConvNet\")\n",
    "plt.plot(acc_convnext.keys(), acc_convnext.values(), '-go', label=\"ConvNext\")\n",
    "plt.legend()\n",
    "plt.title(\"ConvNext vs ConvNet Accuracies\")"
   ]
  }
 ],
 "metadata": {
  "kernelspec": {
   "display_name": "Python 3",
   "language": "python",
   "name": "python3"
  },
  "language_info": {
   "codemirror_mode": {
    "name": "ipython",
    "version": 3
   },
   "file_extension": ".py",
   "mimetype": "text/x-python",
   "name": "python",
   "nbconvert_exporter": "python",
   "pygments_lexer": "ipython3",
   "version": "3.9.16"
  }
 },
 "nbformat": 4,
 "nbformat_minor": 5
}
