{
 "cells": [
  {
   "cell_type": "code",
   "execution_count": 1,
   "id": "a433d236",
   "metadata": {},
   "outputs": [
    {
     "name": "stderr",
     "output_type": "stream",
     "text": [
      "/home/lorenzo/miniconda3/envs/rfdet/lib/python3.9/site-packages/tqdm/auto.py:22: TqdmWarning: IProgress not found. Please update jupyter and ipywidgets. See https://ipywidgets.readthedocs.io/en/stable/user_install.html\n",
      "  from .autonotebook import tqdm as notebook_tqdm\n"
     ]
    }
   ],
   "source": [
    "import json\n",
    "import os\n",
    "import time\n",
    "import torch\n",
    "import torch.utils.data\n",
    "import torch.optim as optim\n",
    "from torchvision import transforms\n",
    "from my_dataset import MyDataSet\n",
    "from utils import split_data, create_lr_scheduler, get_params_groups, train_one_epoch, evaluate\n",
    "from model import convnext as create_model\n",
    "from torchinfo import summary"
   ]
  },
  {
   "cell_type": "code",
   "execution_count": 2,
   "id": "d25e7cd5",
   "metadata": {},
   "outputs": [],
   "source": [
    "device = 'cuda:0'\n",
    "data_path = \"../2018.01/GOLD_XYZ_OSC.0001_1024.hdf5\"\n",
    "snr = 30\n",
    "batch_size = 16\n",
    "nw = min([os.cpu_count(), batch_size if batch_size > 1 else 0, 8])  # number of workers\n",
    "num_classes = 24"
   ]
  },
  {
   "cell_type": "code",
   "execution_count": 3,
   "id": "068b6b4b",
   "metadata": {},
   "outputs": [
    {
     "name": "stdout",
     "output_type": "stream",
     "text": [
      "using cuda:0 device...\n",
      "using valid data size: 12288\n"
     ]
    }
   ],
   "source": [
    "device = torch.device(device if torch.cuda.is_available() else \"cpu\")\n",
    "print(f\"using {device} device...\")\n",
    "\n",
    "data_dir = os.path.dirname(os.path.abspath(data_path))\n",
    "# train_indexes, train_labels, val_indexes, val_labels\n",
    "reload_data = True\n",
    "if os.path.exists(data_dir + '/train_indexes.json') and not reload_data:\n",
    "    with open(data_dir + '/val_indexes.json') as f:\n",
    "        val_indexes = json.load(f)\n",
    "    with open(data_dir + '/val_label.json') as f:\n",
    "        val_labels = json.load(f)\n",
    "else:\n",
    "    train_indexes, train_labels, val_indexes, val_labels = split_data(data_path, snr,\n",
    "                                                                      ratio=[0.875, 0.125, 0.],\n",
    "                                                                      test=False, one_hot=False)\n",
    "\n",
    "print(\"using valid data size: {}\".format(len(val_labels)))\n",
    "data_transform = {\n",
    "    \"val\": transforms.Compose([transforms.ToTensor()])\n",
    "}\n",
    "\n",
    "val_dataset = MyDataSet(hdf5_path=data_path,\n",
    "                        mod_class=val_labels,\n",
    "                        indexes=val_indexes,\n",
    "                        transform=data_transform[\"val\"])"
   ]
  },
  {
   "cell_type": "code",
   "execution_count": 4,
   "id": "3aca1b71",
   "metadata": {},
   "outputs": [
    {
     "data": {
      "text/plain": [
       "torch.Size([1, 1, 1024, 2])"
      ]
     },
     "execution_count": 4,
     "metadata": {},
     "output_type": "execute_result"
    }
   ],
   "source": [
    "data = val_dataset[123][0]\n",
    "data = torch.unsqueeze(data, dim=0)\n",
    "data.shape"
   ]
  },
  {
   "cell_type": "code",
   "execution_count": 5,
   "id": "196768f9",
   "metadata": {
    "scrolled": true
   },
   "outputs": [
    {
     "data": {
      "text/plain": [
       "==========================================================================================\n",
       "Layer (type:depth-idx)                   Output Shape              Param #\n",
       "==========================================================================================\n",
       "ConvNeXt                                 [16, 24]                  --\n",
       "├─Conv2d: 1-1                            [16, 32, 1024, 1]         96\n",
       "├─ModuleList: 1-8                        --                        (recursive)\n",
       "│    └─Sequential: 2-1                   [16, 32, 1024]            --\n",
       "│    │    └─LayerNorm: 3-1               [16, 32, 1024]            65,536\n",
       "├─ModuleList: 1-9                        --                        (recursive)\n",
       "│    └─Sequential: 2-2                   [16, 32, 1024]            --\n",
       "│    │    └─Block: 3-2                   [16, 32, 1024]            74,304\n",
       "│    │    └─Block: 3-3                   [16, 32, 1024]            74,304\n",
       "│    │    └─Block: 3-4                   [16, 32, 1024]            74,304\n",
       "├─ModuleList: 1-8                        --                        (recursive)\n",
       "│    └─Sequential: 2-3                   [16, 64, 256]             --\n",
       "│    │    └─LayerNorm: 3-5               [16, 32, 1024]            65,536\n",
       "│    │    └─Conv1d: 3-6                  [16, 64, 256]             8,256\n",
       "├─ModuleList: 1-9                        --                        (recursive)\n",
       "│    └─Sequential: 2-4                   [16, 64, 256]             --\n",
       "│    │    └─Block: 3-7                   [16, 64, 256]             66,688\n",
       "│    │    └─Block: 3-8                   [16, 64, 256]             66,688\n",
       "│    │    └─Block: 3-9                   [16, 64, 256]             66,688\n",
       "├─ModuleList: 1-8                        --                        (recursive)\n",
       "│    └─Sequential: 2-5                   [16, 128, 64]             --\n",
       "│    │    └─LayerNorm: 3-10              [16, 64, 256]             32,768\n",
       "│    │    └─Conv1d: 3-11                 [16, 128, 64]             32,896\n",
       "├─ModuleList: 1-9                        --                        (recursive)\n",
       "│    └─Sequential: 2-6                   [16, 128, 64]             --\n",
       "│    │    └─Block: 3-12                  [16, 128, 64]             149,760\n",
       "│    │    └─Block: 3-13                  [16, 128, 64]             149,760\n",
       "│    │    └─Block: 3-14                  [16, 128, 64]             149,760\n",
       "│    │    └─Block: 3-15                  [16, 128, 64]             149,760\n",
       "│    │    └─Block: 3-16                  [16, 128, 64]             149,760\n",
       "│    │    └─Block: 3-17                  [16, 128, 64]             149,760\n",
       "│    │    └─Block: 3-18                  [16, 128, 64]             149,760\n",
       "│    │    └─Block: 3-19                  [16, 128, 64]             149,760\n",
       "│    │    └─Block: 3-20                  [16, 128, 64]             149,760\n",
       "├─ModuleList: 1-8                        --                        (recursive)\n",
       "│    └─Sequential: 2-7                   [16, 256, 16]             --\n",
       "│    │    └─LayerNorm: 3-21              [16, 128, 64]             16,384\n",
       "│    │    └─Conv1d: 3-22                 [16, 256, 16]             131,328\n",
       "├─ModuleList: 1-9                        --                        (recursive)\n",
       "│    └─Sequential: 2-8                   [16, 256, 16]             --\n",
       "│    │    └─Block: 3-23                  [16, 256, 16]             537,088\n",
       "│    │    └─Block: 3-24                  [16, 256, 16]             537,088\n",
       "│    │    └─Block: 3-25                  [16, 256, 16]             537,088\n",
       "├─LayerNorm: 1-10                        [16, 256]                 512\n",
       "├─Linear: 1-11                           [16, 24]                  6,168\n",
       "==========================================================================================\n",
       "Total params: 3,741,560\n",
       "Trainable params: 3,741,560\n",
       "Non-trainable params: 0\n",
       "Total mult-adds (M): 204.17\n",
       "==========================================================================================\n",
       "Input size (MB): 0.13\n",
       "Forward/backward pass size (MB): 228.63\n",
       "Params size (MB): 14.96\n",
       "Estimated Total Size (MB): 243.71\n",
       "=========================================================================================="
      ]
     },
     "execution_count": 5,
     "metadata": {},
     "output_type": "execute_result"
    }
   ],
   "source": [
    "# create model\n",
    "model = create_model(num_classes=num_classes).to(device)\n",
    "# load model weights\n",
    "model_weight_path = \"./weights/best_model.pth\"\n",
    "model.load_state_dict(torch.load(model_weight_path, map_location=device))\n",
    "model.eval()\n",
    "\n",
    "summary(model, input_size=(batch_size, 1, 1024, 2))"
   ]
  },
  {
   "cell_type": "code",
   "execution_count": 6,
   "id": "dcc477a5",
   "metadata": {},
   "outputs": [],
   "source": [
    "with torch.no_grad():\n",
    "    # predict class\n",
    "    output = model(data.to(device))"
   ]
  },
  {
   "cell_type": "code",
   "execution_count": 7,
   "id": "d086e78b",
   "metadata": {},
   "outputs": [
    {
     "data": {
      "text/plain": [
       "torch.Size([1, 24])"
      ]
     },
     "execution_count": 7,
     "metadata": {},
     "output_type": "execute_result"
    }
   ],
   "source": [
    "output.shape"
   ]
  },
  {
   "cell_type": "code",
   "execution_count": 8,
   "id": "84d00051",
   "metadata": {},
   "outputs": [
    {
     "data": {
      "text/plain": [
       "tensor([[23.9752,  7.1303,  1.6010,  9.3841, -4.8871, -6.6282, -0.0838, -0.1094,\n",
       "          2.5885, 14.3770, -1.9049,  7.3600, -2.4526,  3.9232, -7.7196, -4.7046,\n",
       "         -7.8209,  9.3376,  0.0529,  1.7865,  6.8980, -2.0233, -3.0467, -6.4652]],\n",
       "       device='cuda:0')"
      ]
     },
     "execution_count": 8,
     "metadata": {},
     "output_type": "execute_result"
    }
   ],
   "source": [
    "output"
   ]
  },
  {
   "cell_type": "code",
   "execution_count": 12,
   "id": "5c3b1e0f",
   "metadata": {},
   "outputs": [
    {
     "data": {
      "text/plain": [
       "tensor([0], device='cuda:0')"
      ]
     },
     "execution_count": 12,
     "metadata": {},
     "output_type": "execute_result"
    }
   ],
   "source": [
    "torch.max(output, dim=1)[1]"
   ]
  },
  {
   "cell_type": "code",
   "execution_count": null,
   "id": "86121b22",
   "metadata": {},
   "outputs": [],
   "source": []
  }
 ],
 "metadata": {
  "kernelspec": {
   "display_name": "Python 3",
   "language": "python",
   "name": "python3"
  },
  "language_info": {
   "codemirror_mode": {
    "name": "ipython",
    "version": 3
   },
   "file_extension": ".py",
   "mimetype": "text/x-python",
   "name": "python",
   "nbconvert_exporter": "python",
   "pygments_lexer": "ipython3",
   "version": "3.9.16"
  }
 },
 "nbformat": 4,
 "nbformat_minor": 5
}
