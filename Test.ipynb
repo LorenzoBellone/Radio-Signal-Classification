{
 "cells": [
  {
   "cell_type": "code",
   "execution_count": 10,
   "id": "a433d236",
   "metadata": {},
   "outputs": [],
   "source": [
    "import json\n",
    "import os\n",
    "import time\n",
    "import torch\n",
    "import torch.utils.data\n",
    "import torch.optim as optim\n",
    "from torchvision import transforms\n",
    "from my_dataset import MyDataSet\n",
    "from utils import split_data, create_lr_scheduler, get_params_groups, train_one_epoch, evaluate\n",
    "from torchinfo import summary"
   ]
  },
  {
   "cell_type": "code",
   "execution_count": 15,
   "id": "d25e7cd5",
   "metadata": {},
   "outputs": [],
   "source": [
    "device = 'cuda:0'\n",
    "data_path = \"../2018.01/GOLD_XYZ_OSC.0001_1024.hdf5\"\n",
    "snr = 30\n",
    "batch_size = 1\n",
    "nw = min([os.cpu_count(), batch_size if batch_size > 1 else 0, 8])  # number of workers\n",
    "num_classes = 24\n",
    "model = \"convnext\"\n",
    "if model == 'convnext':\n",
    "    from model import convnext as create_model\n",
    "elif model == \"convnet\":\n",
    "    from models.convnet import ConvNet as create_model\n",
    "    L=2\n",
    "    C=25\n",
    "elif model == \"convnetBN\":\n",
    "    from models.convnet import ConvNetBN as create_model\n",
    "    L=2\n",
    "    C=25"
   ]
  },
  {
   "cell_type": "code",
   "execution_count": 16,
   "id": "068b6b4b",
   "metadata": {},
   "outputs": [
    {
     "name": "stdout",
     "output_type": "stream",
     "text": [
      "using cuda:0 device...\n",
      "using valid data size: 12288\n"
     ]
    }
   ],
   "source": [
    "device = torch.device(device if torch.cuda.is_available() else \"cpu\")\n",
    "print(f\"using {device} device...\")\n",
    "\n",
    "data_dir = os.path.dirname(os.path.abspath(data_path))\n",
    "# train_indexes, train_labels, val_indexes, val_labels\n",
    "reload_data = False\n",
    "if os.path.exists(data_dir + f'/train_indexes{snr}.json') and not reload_data:\n",
    "    with open(data_dir + f'/val_indexes{snr}.json') as f:\n",
    "        val_indexes = json.load(f)\n",
    "    with open(data_dir + f'/val_label{snr}.json') as f:\n",
    "        val_labels = json.load(f)\n",
    "else:\n",
    "    train_indexes, train_labels, val_indexes, val_labels = split_data(data_path, snr,\n",
    "                                                                      ratio=[0.875, 0.125, 0.],\n",
    "                                                                      test=False, one_hot=False)\n",
    "\n",
    "print(\"using valid data size: {}\".format(len(val_labels)))\n",
    "data_transform = {\n",
    "    \"val\": transforms.Compose([transforms.ToTensor()])\n",
    "}\n",
    "\n",
    "val_dataset = MyDataSet(hdf5_path=data_path,\n",
    "                        mod_class=val_labels,\n",
    "                        indexes=val_indexes,\n",
    "                        model=model,\n",
    "                        transform=data_transform[\"val\"])"
   ]
  },
  {
   "cell_type": "code",
   "execution_count": 17,
   "id": "3aca1b71",
   "metadata": {},
   "outputs": [
    {
     "data": {
      "text/plain": [
       "torch.Size([1, 1024, 2])"
      ]
     },
     "execution_count": 17,
     "metadata": {},
     "output_type": "execute_result"
    }
   ],
   "source": [
    "val_dataset[0][0].shape"
   ]
  },
  {
   "cell_type": "code",
   "execution_count": 19,
   "id": "196768f9",
   "metadata": {
    "scrolled": true
   },
   "outputs": [
    {
     "data": {
      "text/plain": [
       "==========================================================================================\n",
       "Layer (type:depth-idx)                   Output Shape              Param #\n",
       "==========================================================================================\n",
       "ConvNeXt                                 [1, 24]                   --\n",
       "├─Conv2d: 1-1                            [1, 32, 1024, 1]          96\n",
       "├─ModuleList: 1-8                        --                        (recursive)\n",
       "│    └─Sequential: 2-1                   [32, 1024]                --\n",
       "│    │    └─LayerNorm: 3-1               [32, 1024]                65,536\n",
       "├─ModuleList: 1-9                        --                        (recursive)\n",
       "│    └─Sequential: 2-2                   [1, 32, 1024]             --\n",
       "│    │    └─Block: 3-2                   [1, 32, 1024]             74,304\n",
       "│    │    └─Block: 3-3                   [1, 32, 1024]             74,304\n",
       "│    │    └─Block: 3-4                   [1, 32, 1024]             74,304\n",
       "├─ModuleList: 1-8                        --                        (recursive)\n",
       "│    └─Sequential: 2-3                   [1, 64, 256]              --\n",
       "│    │    └─LayerNorm: 3-5               [1, 32, 1024]             65,536\n",
       "│    │    └─Conv1d: 3-6                  [1, 64, 256]              8,256\n",
       "├─ModuleList: 1-9                        --                        (recursive)\n",
       "│    └─Sequential: 2-4                   [1, 64, 256]              --\n",
       "│    │    └─Block: 3-7                   [1, 64, 256]              66,688\n",
       "│    │    └─Block: 3-8                   [1, 64, 256]              66,688\n",
       "│    │    └─Block: 3-9                   [1, 64, 256]              66,688\n",
       "├─ModuleList: 1-8                        --                        (recursive)\n",
       "│    └─Sequential: 2-5                   [1, 128, 64]              --\n",
       "│    │    └─LayerNorm: 3-10              [1, 64, 256]              32,768\n",
       "│    │    └─Conv1d: 3-11                 [1, 128, 64]              32,896\n",
       "├─ModuleList: 1-9                        --                        (recursive)\n",
       "│    └─Sequential: 2-6                   [1, 128, 64]              --\n",
       "│    │    └─Block: 3-12                  [1, 128, 64]              149,760\n",
       "│    │    └─Block: 3-13                  [1, 128, 64]              149,760\n",
       "│    │    └─Block: 3-14                  [1, 128, 64]              149,760\n",
       "│    │    └─Block: 3-15                  [1, 128, 64]              149,760\n",
       "│    │    └─Block: 3-16                  [1, 128, 64]              149,760\n",
       "│    │    └─Block: 3-17                  [1, 128, 64]              149,760\n",
       "│    │    └─Block: 3-18                  [1, 128, 64]              149,760\n",
       "│    │    └─Block: 3-19                  [1, 128, 64]              149,760\n",
       "│    │    └─Block: 3-20                  [1, 128, 64]              149,760\n",
       "├─ModuleList: 1-8                        --                        (recursive)\n",
       "│    └─Sequential: 2-7                   [1, 256, 16]              --\n",
       "│    │    └─LayerNorm: 3-21              [1, 128, 64]              16,384\n",
       "│    │    └─Conv1d: 3-22                 [1, 256, 16]              131,328\n",
       "├─ModuleList: 1-9                        --                        (recursive)\n",
       "│    └─Sequential: 2-8                   [1, 256, 16]              --\n",
       "│    │    └─Block: 3-23                  [1, 256, 16]              537,088\n",
       "│    │    └─Block: 3-24                  [1, 256, 16]              537,088\n",
       "│    │    └─Block: 3-25                  [1, 256, 16]              537,088\n",
       "├─LayerNorm: 1-10                        [1, 256]                  512\n",
       "├─Linear: 1-11                           [1, 24]                   6,168\n",
       "==========================================================================================\n",
       "Total params: 3,741,560\n",
       "Trainable params: 3,741,560\n",
       "Non-trainable params: 0\n",
       "Total mult-adds (M): 16.44\n",
       "==========================================================================================\n",
       "Input size (MB): 0.01\n",
       "Forward/backward pass size (MB): 14.29\n",
       "Params size (MB): 14.96\n",
       "Estimated Total Size (MB): 29.25\n",
       "=========================================================================================="
      ]
     },
     "execution_count": 19,
     "metadata": {},
     "output_type": "execute_result"
    }
   ],
   "source": [
    "# create model\n",
    "if \"convnet\" in model:\n",
    "    net = create_model(num_classes=num_classes, L=L, C=C).to(device)\n",
    "    # load model weights\n",
    "    model_weight_path = f\"./weights/{model}_{L}_{C}/snr{snr}.pth\"\n",
    "    print(\"Loading from \", model_weight_path)\n",
    "else:\n",
    "    net = create_model(num_classes=num_classes).to(device)\n",
    "    # load model weights\n",
    "    model_weight_path = f\"./weights/{model}/snr{snr}.pth\"\n",
    "net.eval()\n",
    "\n",
    "summary(net, input_size=(batch_size, 1, 1024, 2), device='cpu')"
   ]
  },
  {
   "cell_type": "code",
   "execution_count": 6,
   "id": "dcc477a5",
   "metadata": {},
   "outputs": [],
   "source": [
    "with torch.no_grad():\n",
    "    # predict class\n",
    "    output = model(data.to(device))"
   ]
  },
  {
   "cell_type": "code",
   "execution_count": 7,
   "id": "d086e78b",
   "metadata": {},
   "outputs": [
    {
     "data": {
      "text/plain": [
       "torch.Size([1, 24])"
      ]
     },
     "execution_count": 7,
     "metadata": {},
     "output_type": "execute_result"
    }
   ],
   "source": [
    "output.shape"
   ]
  },
  {
   "cell_type": "code",
   "execution_count": 8,
   "id": "84d00051",
   "metadata": {},
   "outputs": [
    {
     "data": {
      "text/plain": [
       "tensor([[23.9752,  7.1303,  1.6010,  9.3841, -4.8871, -6.6282, -0.0838, -0.1094,\n",
       "          2.5885, 14.3770, -1.9049,  7.3600, -2.4526,  3.9232, -7.7196, -4.7046,\n",
       "         -7.8209,  9.3376,  0.0529,  1.7865,  6.8980, -2.0233, -3.0467, -6.4652]],\n",
       "       device='cuda:0')"
      ]
     },
     "execution_count": 8,
     "metadata": {},
     "output_type": "execute_result"
    }
   ],
   "source": [
    "output"
   ]
  },
  {
   "cell_type": "code",
   "execution_count": 12,
   "id": "5c3b1e0f",
   "metadata": {},
   "outputs": [
    {
     "data": {
      "text/plain": [
       "tensor([0], device='cuda:0')"
      ]
     },
     "execution_count": 12,
     "metadata": {},
     "output_type": "execute_result"
    }
   ],
   "source": [
    "torch.max(output, dim=1)[1]"
   ]
  },
  {
   "cell_type": "code",
   "execution_count": null,
   "id": "86121b22",
   "metadata": {},
   "outputs": [],
   "source": []
  }
 ],
 "metadata": {
  "kernelspec": {
   "display_name": "Python 3",
   "language": "python",
   "name": "python3"
  },
  "language_info": {
   "codemirror_mode": {
    "name": "ipython",
    "version": 3
   },
   "file_extension": ".py",
   "mimetype": "text/x-python",
   "name": "python",
   "nbconvert_exporter": "python",
   "pygments_lexer": "ipython3",
   "version": "3.9.16"
  }
 },
 "nbformat": 4,
 "nbformat_minor": 5
}
