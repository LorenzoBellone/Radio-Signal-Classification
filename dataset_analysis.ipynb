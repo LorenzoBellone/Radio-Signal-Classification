{
 "cells": [
  {
   "cell_type": "code",
   "execution_count": 1,
   "id": "767bcfac",
   "metadata": {},
   "outputs": [
    {
     "name": "stderr",
     "output_type": "stream",
     "text": [
      "/home/lorenzo/miniconda3/envs/rfdet/lib/python3.9/site-packages/tqdm/auto.py:22: TqdmWarning: IProgress not found. Please update jupyter and ipywidgets. See https://ipywidgets.readthedocs.io/en/stable/user_install.html\n",
      "  from .autonotebook import tqdm as notebook_tqdm\n"
     ]
    }
   ],
   "source": [
    "import random\n",
    "import argparse\n",
    "import h5py\n",
    "import torch\n",
    "from utils import split_data\n",
    "data_root = \"../2018.01/GOLD_XYZ_OSC.0001_1024.hdf5\""
   ]
  },
  {
   "cell_type": "code",
   "execution_count": 2,
   "id": "8e96f743",
   "metadata": {},
   "outputs": [],
   "source": [
    "f = h5py.File(data_root, 'r')"
   ]
  },
  {
   "cell_type": "code",
   "execution_count": 3,
   "id": "45e085e9",
   "metadata": {},
   "outputs": [],
   "source": [
    "x, y, z = f['X'], f['Y'], f['Z']"
   ]
  },
  {
   "cell_type": "code",
   "execution_count": 4,
   "id": "ffd2aef1",
   "metadata": {},
   "outputs": [
    {
     "name": "stdout",
     "output_type": "stream",
     "text": [
      "[-20, -18, -16, -14, -12, -10, -8, -6, -4, -2, 0, 2, 4, 6, 8, 10, 12, 14, 16, 18, 20, 22, 24, 26, 28, 30]\n"
     ]
    }
   ],
   "source": [
    "snr_classes = []\n",
    "for i in z:\n",
    "    if i not in snr_classes:\n",
    "        snr_classes.append(int(i))\n",
    "print(snr_classes)"
   ]
  },
  {
   "cell_type": "code",
   "execution_count": 12,
   "id": "0d0ba4f7",
   "metadata": {},
   "outputs": [
    {
     "name": "stdout",
     "output_type": "stream",
     "text": [
      "[[ 0.0420274   0.23476323]\n",
      " [-0.2728826   0.40513492]\n",
      " [-0.26707262  0.22749889]\n",
      " ...\n",
      " [-0.7055947  -0.28693035]\n",
      " [-0.41157472  0.66826206]\n",
      " [ 0.06487698  0.6358149 ]]\n",
      "(1024, 2)\n",
      "float32\n"
     ]
    }
   ],
   "source": [
    "a = x[0]\n",
    "print(a)\n",
    "print(a.shape)\n",
    "print(a.dtype)"
   ]
  },
  {
   "cell_type": "code",
   "execution_count": 13,
   "id": "d1347587",
   "metadata": {},
   "outputs": [
    {
     "name": "stdout",
     "output_type": "stream",
     "text": [
      "[1 0 0 0 0 0 0 0 0 0 0 0 0 0 0 0 0 0 0 0 0 0 0 0]\n",
      "(2555904, 24)\n"
     ]
    }
   ],
   "source": [
    "print(y[0])\n",
    "print(y.shape)"
   ]
  },
  {
   "cell_type": "code",
   "execution_count": null,
   "id": "aef09461",
   "metadata": {},
   "outputs": [],
   "source": []
  }
 ],
 "metadata": {
  "kernelspec": {
   "display_name": "Python 3",
   "language": "python",
   "name": "python3"
  },
  "language_info": {
   "codemirror_mode": {
    "name": "ipython",
    "version": 3
   },
   "file_extension": ".py",
   "mimetype": "text/x-python",
   "name": "python",
   "nbconvert_exporter": "python",
   "pygments_lexer": "ipython3",
   "version": "3.9.16"
  }
 },
 "nbformat": 4,
 "nbformat_minor": 5
}
